{
 "cells": [
  {
   "cell_type": "code",
   "execution_count": 10,
   "metadata": {
    "scrolled": true
   },
   "outputs": [],
   "source": [
    "import scipy.io\n",
    "import imageio\n",
    "import os\n",
    "from tqdm import tqdm"
   ]
  },
  {
   "cell_type": "code",
   "execution_count": 11,
   "metadata": {},
   "outputs": [],
   "source": [
    "mat = scipy.io.loadmat('data/mpii_human_pose_v1_u12_1.mat', squeeze_me = True, struct_as_record=False)"
   ]
  },
  {
   "cell_type": "code",
   "execution_count": 12,
   "metadata": {},
   "outputs": [
    {
     "name": "stdout",
     "output_type": "stream",
     "text": [
      "Total data: 24987\n"
     ]
    }
   ],
   "source": [
    "total = len(getattr(mat['RELEASE'], 'img_train'))\n",
    "print('Total data:', total)"
   ]
  },
  {
   "cell_type": "code",
   "execution_count": 13,
   "metadata": {},
   "outputs": [],
   "source": [
    "image_path = './data/images/'"
   ]
  },
  {
   "cell_type": "code",
   "execution_count": 17,
   "metadata": {
    "scrolled": true
   },
   "outputs": [
    {
     "name": "stderr",
     "output_type": "stream",
     "text": [
      "\r",
      "  0%|                                                                                        | 0/24987 [00:00<?, ?it/s]"
     ]
    },
    {
     "name": "stdout",
     "output_type": "stream",
     "text": [
      "[]\n"
     ]
    },
    {
     "name": "stderr",
     "output_type": "stream",
     "text": [
      "\n"
     ]
    },
    {
     "ename": "TypeError",
     "evalue": "'mat_struct' object is not iterable",
     "output_type": "error",
     "traceback": [
      "\u001b[1;31m---------------------------------------------------------------------------\u001b[0m",
      "\u001b[1;31mTypeError\u001b[0m                                 Traceback (most recent call last)",
      "\u001b[1;32m<ipython-input-17-5bac0583da87>\u001b[0m in \u001b[0;36m<module>\u001b[1;34m()\u001b[0m\n\u001b[0;32m     19\u001b[0m \u001b[1;33m\u001b[0m\u001b[0m\n\u001b[0;32m     20\u001b[0m             \u001b[0mannorect\u001b[0m \u001b[1;33m=\u001b[0m \u001b[0mgetattr\u001b[0m\u001b[1;33m(\u001b[0m\u001b[0mannolist\u001b[0m\u001b[1;33m,\u001b[0m \u001b[1;34m'annorect'\u001b[0m\u001b[1;33m)\u001b[0m\u001b[1;33m\u001b[0m\u001b[0m\n\u001b[1;32m---> 21\u001b[1;33m             \u001b[0mprint\u001b[0m\u001b[1;33m(\u001b[0m\u001b[0mlist\u001b[0m\u001b[1;33m(\u001b[0m\u001b[0mannorect\u001b[0m\u001b[1;33m)\u001b[0m\u001b[1;33m)\u001b[0m\u001b[1;33m\u001b[0m\u001b[0m\n\u001b[0m\u001b[0;32m     22\u001b[0m             \u001b[1;32mtry\u001b[0m\u001b[1;33m:\u001b[0m\u001b[1;33m\u001b[0m\u001b[0m\n\u001b[0;32m     23\u001b[0m                 \u001b[1;32mif\u001b[0m \u001b[0mlen\u001b[0m\u001b[1;33m(\u001b[0m\u001b[0mannorect\u001b[0m\u001b[1;33m)\u001b[0m \u001b[1;33m==\u001b[0m \u001b[1;36m0\u001b[0m\u001b[1;33m:\u001b[0m\u001b[1;33m\u001b[0m\u001b[0m\n",
      "\u001b[1;31mTypeError\u001b[0m: 'mat_struct' object is not iterable"
     ]
    }
   ],
   "source": [
    "duplicated = dict() # duplicated[act_id] = cat_name + act_name\n",
    "\n",
    "for img_idx in tqdm(range(total)):\n",
    "    train = getattr(mat['RELEASE'],'img_train')[img_idx]\n",
    "    \n",
    "    if not train:\n",
    "        continue\n",
    "        \n",
    "    act = getattr(mat['RELEASE'], 'act')[img_idx]\n",
    "\n",
    "    cat_name = getattr(act, 'cat_name')\n",
    "    act_name = getattr(act, 'act_name')\n",
    "    act_id = getattr(act, 'act_id')\n",
    "    \n",
    "    if act_id not in duplicated:\n",
    "        \n",
    "        if act_id == -1: # no action in picture(e.g. only hand)\n",
    "            annolist = getattr(mat['RELEASE'],'annolist')[img_idx]\n",
    "            annorect = getattr(annolist, 'annorect')\n",
    "            try:\n",
    "                if not hasattr(annorect, 'scale'):\n",
    "                    continue\n",
    "            except Exception as e:\n",
    "                print(annorect.__dict__)\n",
    "                image_name = getattr(annolist, 'image')\n",
    "                image_name = getattr(image_name, 'name')\n",
    "\n",
    "                path = os.path.join(image_path, image_name)\n",
    "                print(path)\n",
    "                image = imageio.imread(path)\n",
    "                imageio.imwrite(image_name, image)\n",
    "                raise e\n",
    "            \n",
    "        duplicated[act_id] = cat_name + act_name\n",
    "        \n",
    "    else:\n",
    "        if duplicated[act_id] == cat_name + act_name:\n",
    "            pass\n",
    "        else:\n",
    "            print('Wrong:', img_idx)\n",
    "            print(act_id, cat_name, act_name)\n",
    "            print(duplicated[act_id])\n",
    "            break"
   ]
  },
  {
   "cell_type": "code",
   "execution_count": 41,
   "metadata": {},
   "outputs": [
    {
     "data": {
      "text/plain": [
       "-1"
      ]
     },
     "execution_count": 41,
     "metadata": {},
     "output_type": "execute_result"
    }
   ],
   "source": [
    "b1 = getattr(mat['RELEASE'], 'act')[0]\n",
    "b2 = getattr(b1, 'act_id')\n",
    "b2"
   ]
  },
  {
   "cell_type": "code",
   "execution_count": 48,
   "metadata": {},
   "outputs": [
    {
     "name": "stdout",
     "output_type": "stream",
     "text": [
      "no attr\n"
     ]
    }
   ],
   "source": [
    "a1 = getattr(mat['RELEASE'], 'annolist')[1]\n",
    "a2 = getattr(a1, 'annorect')\n",
    "if hasattr(a2, 'scale'):\n",
    "    print(getattr(a2, 'scale'))\n",
    "else:\n",
    "    print('no attr')"
   ]
  },
  {
   "cell_type": "code",
   "execution_count": null,
   "metadata": {},
   "outputs": [],
   "source": [
    "for img_idx in [358, 2580, 9321]:\n",
    "    train = getattr(mat['RELEASE'],'img_train')[img_idx]\n",
    "    \n",
    "    if not train:\n",
    "        print(img_idx)\n",
    "        raise Exception()\n",
    "        \n",
    "    annolist = getattr(mat['RELEASE'],'annolist')[img_idx]\n",
    "    image_name = getattr(annolist, 'image')\n",
    "    image_name = getattr(image_name, 'name')\n",
    "    \n",
    "    path = os.path.join(image_path, image_name)\n",
    "    print(path)\n",
    "    image = imageio.imread(path)"
   ]
  }
 ],
 "metadata": {
  "kernelspec": {
   "display_name": "Python 3",
   "language": "python",
   "name": "python3"
  },
  "language_info": {
   "codemirror_mode": {
    "name": "ipython",
    "version": 3
   },
   "file_extension": ".py",
   "mimetype": "text/x-python",
   "name": "python",
   "nbconvert_exporter": "python",
   "pygments_lexer": "ipython3",
   "version": "3.6.4"
  }
 },
 "nbformat": 4,
 "nbformat_minor": 2
}
