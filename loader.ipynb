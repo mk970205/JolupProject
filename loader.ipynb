{
 "cells": [
  {
   "cell_type": "code",
   "execution_count": null,
   "metadata": {
    "scrolled": true
   },
   "outputs": [],
   "source": [
    "import scipy.io\n",
    "import imageio\n",
    "import os\n",
    "from tqdm import tqdm"
   ]
  },
  {
   "cell_type": "code",
   "execution_count": 2,
   "metadata": {},
   "outputs": [],
   "source": [
    "mat = scipy.io.loadmat('data/mpii_human_pose_v1_u12_1.mat', squeeze_me = True, struct_as_record=False)"
   ]
  },
  {
   "cell_type": "code",
   "execution_count": 3,
   "metadata": {},
   "outputs": [
    {
     "ename": "NameError",
     "evalue": "name 'tqdm' is not defined",
     "output_type": "error",
     "traceback": [
      "\u001b[1;31m---------------------------------------------------------------------------\u001b[0m",
      "\u001b[1;31mNameError\u001b[0m                                 Traceback (most recent call last)",
      "\u001b[1;32m<ipython-input-3-b79ecd76fae1>\u001b[0m in \u001b[0;36m<module>\u001b[1;34m()\u001b[0m\n\u001b[0;32m      1\u001b[0m \u001b[0mduplicated\u001b[0m \u001b[1;33m=\u001b[0m \u001b[0mdict\u001b[0m\u001b[1;33m(\u001b[0m\u001b[1;33m)\u001b[0m \u001b[1;31m# duplicated[act_id] = cat_name + act_name\u001b[0m\u001b[1;33m\u001b[0m\u001b[0m\n\u001b[0;32m      2\u001b[0m \u001b[1;33m\u001b[0m\u001b[0m\n\u001b[1;32m----> 3\u001b[1;33m \u001b[1;32mfor\u001b[0m \u001b[0mimg_idx\u001b[0m \u001b[1;32min\u001b[0m \u001b[0mtqdm\u001b[0m\u001b[1;33m(\u001b[0m\u001b[0mrange\u001b[0m\u001b[1;33m(\u001b[0m\u001b[0mtotal\u001b[0m\u001b[1;33m)\u001b[0m\u001b[1;33m)\u001b[0m\u001b[1;33m:\u001b[0m\u001b[1;33m\u001b[0m\u001b[0m\n\u001b[0m\u001b[0;32m      4\u001b[0m     \u001b[0mtrain\u001b[0m \u001b[1;33m=\u001b[0m \u001b[0mgetattr\u001b[0m\u001b[1;33m(\u001b[0m\u001b[0mmat\u001b[0m\u001b[1;33m[\u001b[0m\u001b[1;34m'RELEASE'\u001b[0m\u001b[1;33m]\u001b[0m\u001b[1;33m,\u001b[0m\u001b[1;34m'img_train'\u001b[0m\u001b[1;33m)\u001b[0m\u001b[1;33m[\u001b[0m\u001b[0mimg_idx\u001b[0m\u001b[1;33m]\u001b[0m\u001b[1;33m\u001b[0m\u001b[0m\n\u001b[0;32m      5\u001b[0m \u001b[1;33m\u001b[0m\u001b[0m\n",
      "\u001b[1;31mNameError\u001b[0m: name 'tqdm' is not defined"
     ]
    }
   ],
   "source": [
    "duplicated = dict() # duplicated[act_id] = cat_name + act_name\n",
    "\n",
    "for img_idx in tqdm(range(total)):\n",
    "    train = getattr(mat['RELEASE'],'img_train')[img_idx]\n",
    "    \n",
    "    if not train:\n",
    "        continue\n",
    "        \n",
    "    annorect = getattr(mat['RELEASE'], 'act')[img_idx]\n",
    "\n",
    "    cat_name = getattr(annorect, 'cat_name')\n",
    "    act_name = getattr(annorect, 'act_name')\n",
    "    act_id = getattr(annorect, 'act_id')\n",
    "    \n",
    "    if act_id not in duplicated:\n",
    "        \n",
    "        if act_id == -1:\n",
    "            annolist = getattr(mat['RELEASE'],'annolist')[img_idx]\n",
    "            \n",
    "            annorect = getattr(annolist, 'annorect')\n",
    "            try:\n",
    "                if len(annorect) == 0:\n",
    "                    continue\n",
    "            except Exception as e:\n",
    "                print(annorect.__dict__)\n",
    "                image_name = getattr(annolist, 'image')\n",
    "                image_name = getattr(image_name, 'name')\n",
    "\n",
    "                path = os.path.join(image_path, image_name)\n",
    "                print(path)\n",
    "                image = imageio.imread(path)\n",
    "                imageio.imwrite(image_name, image)\n",
    "                raise e\n",
    "            \n",
    "        duplicated[act_id] = cat_name + act_name\n",
    "        \n",
    "    else:\n",
    "        if duplicated[act_id] == cat_name + act_name:\n",
    "            pass\n",
    "        else:\n",
    "            print('Wrong:', img_idx)\n",
    "            print(act_id, cat_name, act_name)\n",
    "            print(duplicated[act_id])\n",
    "            break"
   ]
  },
  {
   "cell_type": "code",
   "execution_count": null,
   "metadata": {},
   "outputs": [],
   "source": [
    "total = len(getattr(mat['RELEASE'], 'img_train'))\n",
    "print('Total data:', total)"
   ]
  },
  {
   "cell_type": "code",
   "execution_count": null,
   "metadata": {},
   "outputs": [],
   "source": [
    "image_path = './data/images/'\n",
    "\n",
    "for img_idx in [358, 2580, 9321]:\n",
    "    train = getattr(mat['RELEASE'],'img_train')[img_idx]\n",
    "    \n",
    "    if not train:\n",
    "        print(img_idx)\n",
    "        raise Exception()\n",
    "        \n",
    "    annolist = getattr(mat['RELEASE'],'annolist')[img_idx]\n",
    "    image_name = getattr(annolist, 'image')\n",
    "    image_name = getattr(image_name, 'name')\n",
    "    \n",
    "    path = os.path.join(image_path, image_name)\n",
    "    print(path)\n",
    "    image = imageio.imread(path)\n",
    "    imageio.imwrite(image_name, image)"
   ]
  },
  {
   "cell_type": "code",
   "execution_count": null,
   "metadata": {},
   "outputs": [],
   "source": []
  }
 ],
 "metadata": {
  "kernelspec": {
   "display_name": "Python 3",
   "language": "python",
   "name": "python3"
  },
  "language_info": {
   "codemirror_mode": {
    "name": "ipython",
    "version": 3
   },
   "file_extension": ".py",
   "mimetype": "text/x-python",
   "name": "python",
   "nbconvert_exporter": "python",
   "pygments_lexer": "ipython3",
   "version": "3.6.4"
  }
 },
 "nbformat": 4,
 "nbformat_minor": 2
}
