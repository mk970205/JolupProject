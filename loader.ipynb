{
 "cells": [
  {
   "cell_type": "code",
   "execution_count": 1,
   "metadata": {},
   "outputs": [
    {
     "ename": "ModuleNotFoundError",
     "evalue": "No module named 'tqdm'",
     "output_type": "error",
     "traceback": [
      "\u001b[1;31m---------------------------------------------------------------------------\u001b[0m",
      "\u001b[1;31mModuleNotFoundError\u001b[0m                       Traceback (most recent call last)",
      "\u001b[1;32m<ipython-input-1-028fdca6334d>\u001b[0m in \u001b[0;36m<module>\u001b[1;34m()\u001b[0m\n\u001b[0;32m      2\u001b[0m \u001b[1;32mimport\u001b[0m \u001b[0mimageio\u001b[0m\u001b[1;33m\u001b[0m\u001b[0m\n\u001b[0;32m      3\u001b[0m \u001b[1;32mimport\u001b[0m \u001b[0mos\u001b[0m\u001b[1;33m\u001b[0m\u001b[0m\n\u001b[1;32m----> 4\u001b[1;33m \u001b[1;32mfrom\u001b[0m \u001b[0mtqdm\u001b[0m \u001b[1;32mimport\u001b[0m \u001b[0mtqdm\u001b[0m\u001b[1;33m\u001b[0m\u001b[0m\n\u001b[0m",
      "\u001b[1;31mModuleNotFoundError\u001b[0m: No module named 'tqdm'"
     ]
    }
   ],
   "source": [
    "import scipy.io\n",
    "import imageio\n",
    "import os\n",
    "from tqdm import tqdm"
   ]
  },
  {
   "cell_type": "code",
   "execution_count": null,
   "metadata": {},
   "outputs": [],
   "source": [
    "mat = scipy.io.loadmat('data/mpii_human_pose_v1_u12_1.mat', squeeze_me = True, struct_as_record=False)"
   ]
  },
  {
   "cell_type": "code",
   "execution_count": 38,
   "metadata": {},
   "outputs": [
    {
     "name": "stderr",
     "output_type": "stream",
     "text": [
      "\n",
      "  0%|                                                                                     | 0/24987 [00:00<?, ?it/s]"
     ]
    },
    {
     "name": "stdout",
     "output_type": "stream",
     "text": [
      "{'_fieldnames': ['x1', 'y1', 'x2', 'y2', 'annopoints', 'scale', 'objpos'], 'x1': 546, 'y1': 152, 'x2': 643, 'y2': 292, 'annopoints': <scipy.io.matlab.mio5_params.mat_struct object at 0x0000015BEED40B38>, 'scale': 4.087686876462041, 'objpos': <scipy.io.matlab.mio5_params.mat_struct object at 0x0000015BEED40BA8>}\n",
      "./data/images/003994797.jpg\n"
     ]
    },
    {
     "name": "stderr",
     "output_type": "stream",
     "text": [
      "\n"
     ]
    },
    {
     "ename": "TypeError",
     "evalue": "object of type 'mat_struct' has no len()",
     "output_type": "error",
     "traceback": [
      "\u001b[1;31m---------------------------------------------------------------------------\u001b[0m",
      "\u001b[1;31mTypeError\u001b[0m                                 Traceback (most recent call last)",
      "\u001b[1;32m<ipython-input-38-3c00a0e5c9d4>\u001b[0m in \u001b[0;36m<module>\u001b[1;34m()\u001b[0m\n\u001b[0;32m     31\u001b[0m                 \u001b[0mimage\u001b[0m \u001b[1;33m=\u001b[0m \u001b[0mimageio\u001b[0m\u001b[1;33m.\u001b[0m\u001b[0mimread\u001b[0m\u001b[1;33m(\u001b[0m\u001b[0mpath\u001b[0m\u001b[1;33m)\u001b[0m\u001b[1;33m\u001b[0m\u001b[0m\n\u001b[0;32m     32\u001b[0m                 \u001b[0mimageio\u001b[0m\u001b[1;33m.\u001b[0m\u001b[0mimwrite\u001b[0m\u001b[1;33m(\u001b[0m\u001b[0mimage_name\u001b[0m\u001b[1;33m,\u001b[0m \u001b[0mimage\u001b[0m\u001b[1;33m)\u001b[0m\u001b[1;33m\u001b[0m\u001b[0m\n\u001b[1;32m---> 33\u001b[1;33m                 \u001b[1;32mraise\u001b[0m \u001b[0me\u001b[0m\u001b[1;33m\u001b[0m\u001b[0m\n\u001b[0m\u001b[0;32m     34\u001b[0m \u001b[1;33m\u001b[0m\u001b[0m\n\u001b[0;32m     35\u001b[0m         \u001b[0mduplicated\u001b[0m\u001b[1;33m[\u001b[0m\u001b[0mact_id\u001b[0m\u001b[1;33m]\u001b[0m \u001b[1;33m=\u001b[0m \u001b[0mcat_name\u001b[0m \u001b[1;33m+\u001b[0m \u001b[0mact_name\u001b[0m\u001b[1;33m\u001b[0m\u001b[0m\n",
      "\u001b[1;32m<ipython-input-38-3c00a0e5c9d4>\u001b[0m in \u001b[0;36m<module>\u001b[1;34m()\u001b[0m\n\u001b[0;32m     20\u001b[0m             \u001b[0mannorect\u001b[0m \u001b[1;33m=\u001b[0m \u001b[0mgetattr\u001b[0m\u001b[1;33m(\u001b[0m\u001b[0mannolist\u001b[0m\u001b[1;33m,\u001b[0m \u001b[1;34m'annorect'\u001b[0m\u001b[1;33m)\u001b[0m\u001b[1;33m\u001b[0m\u001b[0m\n\u001b[0;32m     21\u001b[0m             \u001b[1;32mtry\u001b[0m\u001b[1;33m:\u001b[0m\u001b[1;33m\u001b[0m\u001b[0m\n\u001b[1;32m---> 22\u001b[1;33m                 \u001b[1;32mif\u001b[0m \u001b[0mlen\u001b[0m\u001b[1;33m(\u001b[0m\u001b[0mannorect\u001b[0m\u001b[1;33m)\u001b[0m \u001b[1;33m==\u001b[0m \u001b[1;36m0\u001b[0m\u001b[1;33m:\u001b[0m\u001b[1;33m\u001b[0m\u001b[0m\n\u001b[0m\u001b[0;32m     23\u001b[0m                     \u001b[1;32mcontinue\u001b[0m\u001b[1;33m\u001b[0m\u001b[0m\n\u001b[0;32m     24\u001b[0m             \u001b[1;32mexcept\u001b[0m \u001b[0mException\u001b[0m \u001b[1;32mas\u001b[0m \u001b[0me\u001b[0m\u001b[1;33m:\u001b[0m\u001b[1;33m\u001b[0m\u001b[0m\n",
      "\u001b[1;31mTypeError\u001b[0m: object of type 'mat_struct' has no len()"
     ]
    }
   ],
   "source": [
    "duplicated = dict() # duplicated[act_id] = cat_name + act_name\n",
    "\n",
    "for img_idx in tqdm(range(total)):\n",
    "    train = getattr(mat['RELEASE'],'img_train')[img_idx]\n",
    "    \n",
    "    if not train:\n",
    "        continue\n",
    "        \n",
    "    annorect = getattr(mat['RELEASE'], 'act')[img_idx]\n",
    "\n",
    "    cat_name = getattr(annorect, 'cat_name')\n",
    "    act_name = getattr(annorect, 'act_name')\n",
    "    act_id = getattr(annorect, 'act_id')\n",
    "    \n",
    "    if act_id not in duplicated:\n",
    "        \n",
    "        if act_id == -1:\n",
    "            annolist = getattr(mat['RELEASE'],'annolist')[img_idx]\n",
    "            \n",
    "            annorect = getattr(annolist, 'annorect')\n",
    "            try:\n",
    "                if len(annorect) == 0:\n",
    "                    continue\n",
    "            except Exception as e:\n",
    "                print(annorect.__dict__)\n",
    "                image_name = getattr(annolist, 'image')\n",
    "                image_name = getattr(image_name, 'name')\n",
    "\n",
    "                path = os.path.join(image_path, image_name)\n",
    "                print(path)\n",
    "                image = imageio.imread(path)\n",
    "                imageio.imwrite(image_name, image)\n",
    "                raise e\n",
    "            \n",
    "        duplicated[act_id] = cat_name + act_name\n",
    "        \n",
    "    else:\n",
    "        if duplicated[act_id] == cat_name + act_name:\n",
    "            pass\n",
    "        else:\n",
    "            print('Wrong:', img_idx)\n",
    "            print(act_id, cat_name, act_name)\n",
    "            print(duplicated[act_id])\n",
    "            break"
   ]
  },
  {
   "cell_type": "code",
   "execution_count": 9,
   "metadata": {},
   "outputs": [
    {
     "name": "stdout",
     "output_type": "stream",
     "text": [
      "Total data: 24987\n"
     ]
    }
   ],
   "source": [
    "total = len(getattr(mat['RELEASE'], 'img_train'))\n",
    "print('Total data:', total)"
   ]
  },
  {
   "cell_type": "code",
   "execution_count": 28,
   "metadata": {},
   "outputs": [
    {
     "name": "stdout",
     "output_type": "stream",
     "text": [
      "./data/images/094023024.jpg\n",
      "./data/images/012292068.jpg\n",
      "./data/images/088467498.jpg\n"
     ]
    }
   ],
   "source": [
    "image_path = './data/images/'\n",
    "\n",
    "for img_idx in [358, 2580, 9321]:\n",
    "    train = getattr(mat['RELEASE'],'img_train')[img_idx]\n",
    "    \n",
    "    if not train:\n",
    "        print(img_idx)\n",
    "        raise Exception()\n",
    "        \n",
    "    annolist = getattr(mat['RELEASE'],'annolist')[img_idx]\n",
    "    image_name = getattr(annolist, 'image')\n",
    "    image_name = getattr(image_name, 'name')\n",
    "    \n",
    "    path = os.path.join(image_path, image_name)\n",
    "    print(path)\n",
    "    image = imageio.imread(path)\n",
    "    imageio.imwrite(image_name, image)"
   ]
  }
 ],
 "metadata": {
  "kernelspec": {
   "display_name": "Python 3",
   "language": "python",
   "name": "python3"
  },
  "language_info": {
   "codemirror_mode": {
    "name": "ipython",
    "version": 3
   },
   "file_extension": ".py",
   "mimetype": "text/x-python",
   "name": "python",
   "nbconvert_exporter": "python",
   "pygments_lexer": "ipython3",
   "version": "3.6.4"
  }
 },
 "nbformat": 4,
 "nbformat_minor": 2
}
