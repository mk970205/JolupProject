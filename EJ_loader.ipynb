{
 "cells": [
  {
   "cell_type": "code",
   "execution_count": 38,
   "metadata": {
    "scrolled": true
   },
   "outputs": [],
   "source": [
    "import scipy.io\n",
    "import imageio\n",
    "import os\n",
    "from tqdm import tqdm\n",
    "import numpy"
   ]
  },
  {
   "cell_type": "code",
   "execution_count": 32,
   "metadata": {},
   "outputs": [],
   "source": [
    "mat = scipy.io.loadmat('data/mpii_human_pose_v1_u12_1.mat', squeeze_me = True, struct_as_record=False)"
   ]
  },
  {
   "cell_type": "code",
   "execution_count": 99,
   "metadata": {
    "scrolled": true
   },
   "outputs": [
    {
     "name": "stdout",
     "output_type": "stream",
     "text": [
      "Total data: 24987\n"
     ]
    },
    {
     "name": "stderr",
     "output_type": "stream",
     "text": [
      "\r",
      "  0%|                                                                                        | 0/24987 [00:00<?, ?it/s]"
     ]
    },
    {
     "name": "stdout",
     "output_type": "stream",
     "text": [
      "-1 [] []\n",
      "-1 [] []\n",
      "-1 [] []\n",
      "-1 [] []\n",
      "-1 [] []\n",
      "-1 [] []\n",
      "-1 [] []\n",
      "-1 [] []\n",
      "-1 [] []\n",
      "-1 [] []\n",
      "-1 [] []\n",
      "-1 [] []\n",
      "-1 [] []\n",
      "-1 [] []\n",
      "-1 [] []\n",
      "-1 [] []\n",
      "-1 [] []\n",
      "-1 [] []\n",
      "-1 [] []\n",
      "-1 [] []\n",
      "-1 [] []\n",
      "-1 [] []\n",
      "-1 [] []\n",
      "-1 [] []\n",
      "-1 [] []\n",
      "-1 [] []\n",
      "-1 [] []\n",
      "-1 [] []\n",
      "-1 [] []\n",
      "-1 [] []\n",
      "-1 [] []\n"
     ]
    },
    {
     "name": "stderr",
     "output_type": "stream",
     "text": [
      "\r",
      " 80%|█████████████████████████████████████████████████████████▋              | 20011/24987 [00:00<00:00, 198658.02it/s]"
     ]
    },
    {
     "name": "stdout",
     "output_type": "stream",
     "text": [
      "-1 [] []\n",
      "-1 [] []\n",
      "-1 [] []\n",
      "-1 [] []\n",
      "-1 [] []\n",
      "-1 [] []\n",
      "-1 [] []\n",
      "-1 [] []\n",
      "-1 [] []\n",
      "-1 [] []\n",
      "-1 [] []\n",
      "-1 [] []\n",
      "-1 [] []\n",
      "-1 [] []\n",
      "-1 [] []\n"
     ]
    },
    {
     "name": "stderr",
     "output_type": "stream",
     "text": [
      "100%|████████████████████████████████████████████████████████████████████████| 24987/24987 [00:00<00:00, 176433.18it/s]\n"
     ]
    },
    {
     "name": "stdout",
     "output_type": "stream",
     "text": [
      "24987\n",
      "24941\n"
     ]
    }
   ],
   "source": [
    "duplicated = dict() # duplicated[act_id] = cat_name + act_name\n",
    "\n",
    "total = len(getattr(mat['RELEASE'], 'img_train'))\n",
    "print('Total data:', total)\n",
    "\n",
    "for img_idx in tqdm(range(total)):\n",
    "    \n",
    "    train = getattr(mat['RELEASE'],'img_train')[img_idx]\n",
    "        \n",
    "    if not train:\n",
    "        continue\n",
    "    \n",
    "    annorect = getattr(mat['RELEASE'], 'act')[img_idx]\n",
    "\n",
    "    cat_name = getattr(annorect, 'cat_name')\n",
    "    act_name = getattr(annorect, 'act_name')\n",
    "    act_id = getattr(annorect, 'act_id')\n",
    "    \n",
    "    \n",
    "    if act_id not in duplicated:\n",
    "        if act_id == -1:\n",
    "            print(act_id, cat_name, act_name)\n",
    "            continue\n",
    "\n",
    "            annolist = getattr(mat['RELEASE'],'annolist')[img_idx]\n",
    "            annorect = getattr(annolist, 'annorect')\n",
    "            \n",
    "            \n",
    "            try:\n",
    "                if type(annorect) is not scipy.io.matlab.mio5_params.mat_struct:\n",
    "                    print(img_idx,': annorect is empty!')\n",
    "                    #print(annorect)\n",
    "                    dupcount = dupcount + 1\n",
    "                    continue\n",
    "                else:\n",
    "                    print(img_idx,': act_id is -1 but annorect is not empty!')\n",
    "                    #print(annorect.__dict__)\n",
    "                    dupcount = dupcount + 1\n",
    "                    continue\n",
    "                    #raise Exception\n",
    "            except Exception as e:\n",
    "                print('exception enter')\n",
    "                print(annorect.__dict__)\n",
    "                image_name = getattr(annolist, 'image')\n",
    "                image_name = getattr(image_name, 'name')\n",
    "\n",
    "                path = os.path.join(image_path, image_name)\n",
    "                print(path)\n",
    "                image = imageio.imread(path)\n",
    "                imageio.imwrite(image_name, image)\n",
    "                raise e\n",
    "            \n",
    "        duplicated[act_id] = cat_name + act_name\n",
    "        #print('duplicated[act_name]: ',duplicated[act_id])\n",
    "        #print(annorect.__dict__)\n",
    "        \n",
    "    else:\n",
    "        if duplicated[act_id] == cat_name + act_name:\n",
    "            pass\n",
    "        else:\n",
    "            print('Wrong:', img_idx)\n",
    "            print(act_id, cat_name, act_name)\n",
    "            print(duplicated[act_id])\n",
    "            break\n",
    "            \n",
    "print(total)\n",
    "print(total - dupcount)"
   ]
  },
  {
   "cell_type": "code",
   "execution_count": 12,
   "metadata": {},
   "outputs": [
    {
     "name": "stdout",
     "output_type": "stream",
     "text": [
      "Total data: 24987\n"
     ]
    }
   ],
   "source": []
  },
  {
   "cell_type": "code",
   "execution_count": 18,
   "metadata": {
    "scrolled": true
   },
   "outputs": [
    {
     "name": "stdout",
     "output_type": "stream",
     "text": [
      "./data/images/094023024.jpg\n",
      "./data/images/012292068.jpg\n",
      "./data/images/088467498.jpg\n"
     ]
    }
   ],
   "source": [
    "image_path = './data/images/'\n",
    "\n",
    "for img_idx in [358, 2580, 9321]:\n",
    "    train = getattr(mat['RELEASE'],'img_train')[img_idx]\n",
    "    \n",
    "    if not train:\n",
    "        print(img_idx)\n",
    "        raise Exception()\n",
    "        \n",
    "    annolist = getattr(mat['RELEASE'],'annolist')[img_idx]\n",
    "    image_name = getattr(annolist, 'image')\n",
    "    image_name = getattr(image_name, 'name')\n",
    "    \n",
    "    path = os.path.join(image_path, image_name)\n",
    "    print(path)\n",
    "    image = imageio.imread(path)\n",
    "    imageio.imwrite(image_name, image)"
   ]
  },
  {
   "cell_type": "code",
   "execution_count": null,
   "metadata": {},
   "outputs": [],
   "source": []
  }
 ],
 "metadata": {
  "kernelspec": {
   "display_name": "Python 3",
   "language": "python",
   "name": "python3"
  },
  "language_info": {
   "codemirror_mode": {
    "name": "ipython",
    "version": 3
   },
   "file_extension": ".py",
   "mimetype": "text/x-python",
   "name": "python",
   "nbconvert_exporter": "python",
   "pygments_lexer": "ipython3",
   "version": "3.6.4"
  }
 },
 "nbformat": 4,
 "nbformat_minor": 2
}
