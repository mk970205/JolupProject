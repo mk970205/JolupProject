{
 "cells": [
  {
   "cell_type": "code",
   "execution_count": 1,
   "metadata": {},
   "outputs": [],
   "source": [
    "from MK_MPII_loader import MPII"
   ]
  },
  {
   "cell_type": "code",
   "execution_count": 17,
   "metadata": {},
   "outputs": [],
   "source": [
    "import imageio\n",
    "import numpy as np\n",
    "import skimage.transform\n",
    "from util import generate_heatmap\n",
    "from vectormath import Vector3"
   ]
  },
  {
   "cell_type": "code",
   "execution_count": 3,
   "metadata": {},
   "outputs": [],
   "source": [
    "mpii = MPII(batch_size=1, task='train')"
   ]
  },
  {
   "cell_type": "code",
   "execution_count": 4,
   "metadata": {},
   "outputs": [
    {
     "name": "stderr",
     "output_type": "stream",
     "text": [
      "C:\\Users\\Ethereum\\Anaconda3\\lib\\site-packages\\skimage\\transform\\_warps.py:84: UserWarning: The default mode, 'constant', will be changed to 'reflect' in skimage 0.15.\n",
      "  warn(\"The default mode, 'constant', will be changed to 'reflect' in \"\n"
     ]
    }
   ],
   "source": [
    "batch_rgb, batch_heatmap, batch_keypoint, batch_activity, batch_threshold = mpii.get_minibatch(mpii.batch_image_set())"
   ]
  },
  {
   "cell_type": "code",
   "execution_count": 11,
   "metadata": {},
   "outputs": [
    {
     "name": "stdout",
     "output_type": "stream",
     "text": [
      "(256, 256, 3)\n"
     ]
    },
    {
     "name": "stderr",
     "output_type": "stream",
     "text": [
      "C:\\Users\\Ethereum\\Anaconda3\\lib\\site-packages\\imageio\\core\\util.py:78: UserWarning: Lossy conversion from float32 to uint8, range [0, 1]\n",
      "  dtype_str, out_type.__name__))\n"
     ]
    }
   ],
   "source": [
    "rgb = batch_rgb[0]\n",
    "print(rgb.shape)\n",
    "imageio.imwrite('rgb.jpg', rgb)"
   ]
  },
  {
   "cell_type": "code",
   "execution_count": 6,
   "metadata": {},
   "outputs": [
    {
     "name": "stdout",
     "output_type": "stream",
     "text": [
      "(64, 64, 16) <class 'numpy.ndarray'>\n",
      "0.0 1.0\n"
     ]
    },
    {
     "name": "stderr",
     "output_type": "stream",
     "text": [
      "C:\\Users\\Ethereum\\Anaconda3\\lib\\site-packages\\imageio\\core\\util.py:78: UserWarning: Lossy conversion from float32 to uint8, range [0, 1]\n",
      "  dtype_str, out_type.__name__))\n"
     ]
    }
   ],
   "source": [
    "heatmap = batch_heatmap[0]\n",
    "print(heatmap.shape, type(heatmap))\n",
    "print(np.min(heatmap), np.max(heatmap))\n",
    "\n",
    "for y in range(64):\n",
    "    for x in range(64):\n",
    "        heatmap[y, x, 0] = max(heatmap[y, x, :])\n",
    "imageio.imwrite('heatmap.jpg', heatmap[:, :, 0])"
   ]
  },
  {
   "cell_type": "code",
   "execution_count": 7,
   "metadata": {},
   "outputs": [
    {
     "name": "stdout",
     "output_type": "stream",
     "text": [
      "[[[46.511528 34.754013]\n",
      "  [33.271084 34.33032 ]\n",
      "  [24.373503 29.775604]\n",
      "  [24.691273 37.61395 ]\n",
      "  [28.186752 39.096878]\n",
      "  [29.245987 38.56726 ]\n",
      "  [24.58535  33.69478 ]\n",
      "  [23.42019  37.61395 ]\n",
      "  [24.883875 36.556843]\n",
      "  [16.236633 42.802074]\n",
      "  [27.763058 33.271084]\n",
      "  [21.831337 27.657133]\n",
      "  [22.466879 32.741467]\n",
      "  [24.373503 42.38051 ]\n",
      "  [30.199299 42.486435]\n",
      "  [37.93172  41.956814]]]\n"
     ]
    }
   ],
   "source": [
    "print(batch_keypoint)"
   ]
  },
  {
   "cell_type": "code",
   "execution_count": 8,
   "metadata": {},
   "outputs": [
    {
     "name": "stdout",
     "output_type": "stream",
     "text": [
      "[[1]]\n"
     ]
    }
   ],
   "source": [
    "print(batch_activity)"
   ]
  },
  {
   "cell_type": "code",
   "execution_count": 9,
   "metadata": {},
   "outputs": [
    {
     "name": "stdout",
     "output_type": "stream",
     "text": [
      "[[25.6]]\n"
     ]
    }
   ],
   "source": [
    "print(batch_threshold)"
   ]
  },
  {
   "cell_type": "code",
   "execution_count": 20,
   "metadata": {},
   "outputs": [
    {
     "name": "stderr",
     "output_type": "stream",
     "text": [
      "C:\\Users\\Ethereum\\Anaconda3\\lib\\site-packages\\skimage\\transform\\_warps.py:84: UserWarning: The default mode, 'constant', will be changed to 'reflect' in skimage 0.15.\n",
      "  warn(\"The default mode, 'constant', will be changed to 'reflect' in \"\n",
      "C:\\Users\\Ethereum\\Anaconda3\\lib\\site-packages\\imageio\\core\\util.py:78: UserWarning: Lossy conversion from float64 to uint8, range [0, 1]\n",
      "  dtype_str, out_type.__name__))\n"
     ]
    }
   ],
   "source": [
    "colors = [\n",
    "    Vector3(0x00, 0x00, 0x80), # Navy\n",
    "    Vector3(0x00, 0x00, 0xFF), # Blue\n",
    "    Vector3(0x00, 0xFF, 0x00), # Green\n",
    "    Vector3(0xFF, 0xFF, 0x00), # Yellow\n",
    "    Vector3(0xFF, 0x00, 0x00), # Red\n",
    "    Vector3(0xFF, 0x00, 0x00), # Red\n",
    "]\n",
    "\n",
    "beautified = np.ndarray(shape=(64, 64, 3))\n",
    "    \n",
    "for y in range(64):\n",
    "    for x in range(64):\n",
    "        p = heatmap[y, x, 0] # in range [0.0, 1.0]\n",
    "        index = int(p * 100) // 25 # 0 1 2 3 4\n",
    "        \n",
    "        t = (p - 0.25 * index)/ 0.25\n",
    "        \n",
    "        color = colors[index] * (1-t) + colors[index+1] * t\n",
    "        beautified[y, x, :] = color\n",
    "\n",
    "beautified = skimage.transform.resize(beautified, (256, 256))\n",
    "imageio.imwrite('merged.jpg', rgb * 0.5 + beautified * 0.5 / 0xFF)"
   ]
  }
 ],
 "metadata": {
  "kernelspec": {
   "display_name": "Python 3",
   "language": "python",
   "name": "python3"
  },
  "language_info": {
   "codemirror_mode": {
    "name": "ipython",
    "version": 3
   },
   "file_extension": ".py",
   "mimetype": "text/x-python",
   "name": "python",
   "nbconvert_exporter": "python",
   "pygments_lexer": "ipython3",
   "version": "3.6.4"
  }
 },
 "nbformat": 4,
 "nbformat_minor": 2
}
