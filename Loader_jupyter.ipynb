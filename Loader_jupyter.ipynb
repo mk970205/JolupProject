{
 "cells": [
  {
   "cell_type": "code",
   "execution_count": 6,
   "metadata": {},
   "outputs": [],
   "source": [
    "from MK_MPII_loader import MPII"
   ]
  },
  {
   "cell_type": "code",
   "execution_count": 89,
   "metadata": {},
   "outputs": [],
   "source": [
    "import imageio\n",
    "import numpy as np\n",
    "import skimage\n",
    "import skimage.transform\n",
    "from util import generate_heatmap\n",
    "from vectormath import Vector3"
   ]
  },
  {
   "cell_type": "code",
   "execution_count": 135,
   "metadata": {},
   "outputs": [],
   "source": [
    "mpii = MPII(batch_size=1, task='train')"
   ]
  },
  {
   "cell_type": "code",
   "execution_count": 143,
   "metadata": {
    "scrolled": false
   },
   "outputs": [
    {
     "name": "stderr",
     "output_type": "stream",
     "text": [
      "C:\\Users\\Ethereum\\Anaconda3\\lib\\site-packages\\imageio\\core\\util.py:78: UserWarning: Lossy conversion from float64 to uint8, range [0, 1]\n",
      "  dtype_str, out_type.__name__))\n",
      "C:\\Users\\Ethereum\\Anaconda3\\lib\\site-packages\\skimage\\transform\\_warps.py:84: UserWarning: The default mode, 'constant', will be changed to 'reflect' in skimage 0.15.\n",
      "  warn(\"The default mode, 'constant', will be changed to 'reflect' in \"\n"
     ]
    }
   ],
   "source": [
    "img = mpii.batch_image_set()\n",
    "img_idx = img[0][0]\n",
    "annolist = mpii.mat['RELEASE'].annolist\n",
    "imgpath = './data/images/' + annolist[img_idx].image.name\n",
    "imageio.imwrite('original.jpg', skimage.img_as_float(skimage.io.imread(imgpath)))\n",
    "batch_rgb, batch_heatmap, batch_keypoint, batch_activity, batch_threshold = mpii.get_minibatch(img)"
   ]
  },
  {
   "cell_type": "code",
   "execution_count": 144,
   "metadata": {
    "scrolled": true
   },
   "outputs": [
    {
     "name": "stdout",
     "output_type": "stream",
     "text": [
      "(256, 256, 3)\n"
     ]
    },
    {
     "name": "stderr",
     "output_type": "stream",
     "text": [
      "C:\\Users\\Ethereum\\Anaconda3\\lib\\site-packages\\imageio\\core\\util.py:78: UserWarning: Lossy conversion from float32 to uint8, range [0, 1]\n",
      "  dtype_str, out_type.__name__))\n"
     ]
    }
   ],
   "source": [
    "rgb = batch_rgb[0]\n",
    "print(rgb.shape)\n",
    "imageio.imwrite('rgb.jpg', rgb)"
   ]
  },
  {
   "cell_type": "code",
   "execution_count": 145,
   "metadata": {},
   "outputs": [
    {
     "name": "stdout",
     "output_type": "stream",
     "text": [
      "(64, 64, 16) <class 'numpy.ndarray'>\n",
      "0.0 1.0\n"
     ]
    },
    {
     "name": "stderr",
     "output_type": "stream",
     "text": [
      "C:\\Users\\Ethereum\\Anaconda3\\lib\\site-packages\\imageio\\core\\util.py:78: UserWarning: Lossy conversion from float32 to uint8, range [0, 1]\n",
      "  dtype_str, out_type.__name__))\n"
     ]
    }
   ],
   "source": [
    "heatmap = batch_heatmap[0]\n",
    "print(heatmap.shape, type(heatmap))\n",
    "print(np.min(heatmap), np.max(heatmap))\n",
    "\n",
    "for y in range(64):\n",
    "    for x in range(64):\n",
    "        heatmap[y, x, 0] = max(heatmap[y, x, :])\n",
    "imageio.imwrite('heatmap.jpg', heatmap[:, :, 0])"
   ]
  },
  {
   "cell_type": "code",
   "execution_count": 146,
   "metadata": {},
   "outputs": [
    {
     "name": "stdout",
     "output_type": "stream",
     "text": [
      "[[[27.901154 36.098846]\n",
      "  [32.323593 39.981964]\n",
      "  [37.39322  32.53932 ]\n",
      "  [33.72583  29.195526]\n",
      "  [27.469694 36.098846]\n",
      "  [24.125898 39.011185]\n",
      "  [35.559525 30.921356]\n",
      "  [35.23593  24.449492]\n",
      "  [32.419678 24.079473]\n",
      "  [23.274761 22.87795 ]\n",
      "  [38.579727 39.011185]\n",
      "  [41.384205 34.157288]\n",
      "  [37.93254  26.498915]\n",
      "  [32.53932  22.292204]\n",
      "  [34.049423 25.636   ]\n",
      "  [31.24495  27.901154]]]\n"
     ]
    }
   ],
   "source": [
    "print(batch_keypoint)"
   ]
  },
  {
   "cell_type": "code",
   "execution_count": 147,
   "metadata": {},
   "outputs": [
    {
     "name": "stdout",
     "output_type": "stream",
     "text": [
      "[[618]]\n"
     ]
    }
   ],
   "source": [
    "print(batch_activity)"
   ]
  },
  {
   "cell_type": "code",
   "execution_count": 148,
   "metadata": {},
   "outputs": [
    {
     "name": "stdout",
     "output_type": "stream",
     "text": [
      "[[25.6]]\n"
     ]
    }
   ],
   "source": [
    "print(batch_threshold)"
   ]
  },
  {
   "cell_type": "code",
   "execution_count": 149,
   "metadata": {},
   "outputs": [
    {
     "name": "stderr",
     "output_type": "stream",
     "text": [
      "C:\\Users\\Ethereum\\Anaconda3\\lib\\site-packages\\skimage\\transform\\_warps.py:84: UserWarning: The default mode, 'constant', will be changed to 'reflect' in skimage 0.15.\n",
      "  warn(\"The default mode, 'constant', will be changed to 'reflect' in \"\n",
      "C:\\Users\\Ethereum\\Anaconda3\\lib\\site-packages\\imageio\\core\\util.py:78: UserWarning: Lossy conversion from float64 to uint8, range [0, 1]\n",
      "  dtype_str, out_type.__name__))\n"
     ]
    }
   ],
   "source": [
    "colors = [\n",
    "    Vector3(0x00, 0x00, 0x80), # Navy\n",
    "    Vector3(0x00, 0x00, 0xFF), # Blue\n",
    "    Vector3(0x00, 0xFF, 0x00), # Green\n",
    "    Vector3(0xFF, 0xFF, 0x00), # Yellow\n",
    "    Vector3(0xFF, 0x00, 0x00), # Red\n",
    "    Vector3(0xFF, 0x00, 0x00), # Red\n",
    "]\n",
    "\n",
    "beautified = np.ndarray(shape=(64, 64, 3))\n",
    "    \n",
    "for y in range(64):\n",
    "    for x in range(64):\n",
    "        p = heatmap[y, x, 0] # in range [0.0, 1.0]\n",
    "        index = int(p * 100) // 25 # 0 1 2 3 4\n",
    "        \n",
    "        t = (p - 0.25 * index)/ 0.25\n",
    "        \n",
    "        color = colors[index] * (1-t) + colors[index+1] * t\n",
    "        beautified[y, x, :] = color\n",
    "\n",
    "beautified = skimage.transform.resize(beautified, (256, 256))\n",
    "imageio.imwrite('merged.jpg', rgb * 0.5 + beautified * 0.5 / 0xFF)"
   ]
  },
  {
   "cell_type": "code",
   "execution_count": null,
   "metadata": {},
   "outputs": [],
   "source": []
  }
 ],
 "metadata": {
  "kernelspec": {
   "display_name": "Python 3",
   "language": "python",
   "name": "python3"
  },
  "language_info": {
   "codemirror_mode": {
    "name": "ipython",
    "version": 3
   },
   "file_extension": ".py",
   "mimetype": "text/x-python",
   "name": "python",
   "nbconvert_exporter": "python",
   "pygments_lexer": "ipython3",
   "version": "3.6.4"
  }
 },
 "nbformat": 4,
 "nbformat_minor": 2
}
